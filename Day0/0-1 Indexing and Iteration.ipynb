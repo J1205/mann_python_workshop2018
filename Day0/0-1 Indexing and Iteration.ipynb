{
 "cells": [
  {
   "cell_type": "markdown",
   "metadata": {},
   "source": [
    "# Iteration, the Built-In Functions, and File Paths\n",
    "\n",
    "## Indexing Exercises\n",
    "\n",
    "Using the example dataset *scores*, select only the described elements from each list:"
   ]
  },
  {
   "cell_type": "code",
   "execution_count": 1,
   "metadata": {},
   "outputs": [],
   "source": [
    "scores = [0.2, 0.3, 0.9, 1.1, 2.2, 2.9, 0.0, 0.7, 1.3, 0.3, 0.5, 0.1, 0.0]"
   ]
  },
  {
   "cell_type": "markdown",
   "metadata": {},
   "source": [
    "1) The third score"
   ]
  },
  {
   "cell_type": "code",
   "execution_count": 3,
   "metadata": {},
   "outputs": [
    {
     "data": {
      "text/plain": [
       "0.9"
      ]
     },
     "execution_count": 3,
     "metadata": {},
     "output_type": "execute_result"
    }
   ],
   "source": [
    "scores[2]"
   ]
  },
  {
   "cell_type": "markdown",
   "metadata": {},
   "source": [
    "2) The last score"
   ]
  },
  {
   "cell_type": "code",
   "execution_count": 4,
   "metadata": {},
   "outputs": [
    {
     "data": {
      "text/plain": [
       "0.0"
      ]
     },
     "execution_count": 4,
     "metadata": {},
     "output_type": "execute_result"
    }
   ],
   "source": [
    "scores[-1]"
   ]
  },
  {
   "cell_type": "markdown",
   "metadata": {},
   "source": [
    "3) The 2nd through 5th score"
   ]
  },
  {
   "cell_type": "code",
   "execution_count": 5,
   "metadata": {},
   "outputs": [
    {
     "data": {
      "text/plain": [
       "[0.3, 0.9, 1.1, 2.2]"
      ]
     },
     "execution_count": 5,
     "metadata": {},
     "output_type": "execute_result"
    }
   ],
   "source": [
    "scores[1:5]"
   ]
  },
  {
   "cell_type": "markdown",
   "metadata": {},
   "source": [
    "4) Every second score (the first, third, fifth, etc)"
   ]
  },
  {
   "cell_type": "code",
   "execution_count": 6,
   "metadata": {},
   "outputs": [
    {
     "data": {
      "text/plain": [
       "[0.2, 0.9, 2.2, 0.0, 1.3, 0.5, 0.0]"
      ]
     },
     "execution_count": 6,
     "metadata": {},
     "output_type": "execute_result"
    }
   ],
   "source": [
    "scores[::2]"
   ]
  },
  {
   "cell_type": "markdown",
   "metadata": {},
   "source": [
    "5) Every score after the 4th score"
   ]
  },
  {
   "cell_type": "code",
   "execution_count": 7,
   "metadata": {},
   "outputs": [
    {
     "data": {
      "text/plain": [
       "[1.1, 2.2, 2.9, 0.0, 0.7, 1.3, 0.3, 0.5, 0.1, 0.0]"
      ]
     },
     "execution_count": 7,
     "metadata": {},
     "output_type": "execute_result"
    }
   ],
   "source": [
    "scores[3:]"
   ]
  },
  {
   "cell_type": "markdown",
   "metadata": {},
   "source": [
    "6) Every second score from the 2nd to the 8th."
   ]
  },
  {
   "cell_type": "code",
   "execution_count": 8,
   "metadata": {},
   "outputs": [
    {
     "data": {
      "text/plain": [
       "[0.3, 1.1, 2.9, 0.7]"
      ]
     },
     "execution_count": 8,
     "metadata": {},
     "output_type": "execute_result"
    }
   ],
   "source": [
    "scores[1:8:2]"
   ]
  },
  {
   "cell_type": "markdown",
   "metadata": {},
   "source": [
    "Change the 3rd score in the list to a 10."
   ]
  },
  {
   "cell_type": "code",
   "execution_count": 9,
   "metadata": {},
   "outputs": [],
   "source": [
    "scores[2] = 10"
   ]
  },
  {
   "cell_type": "code",
   "execution_count": 12,
   "metadata": {},
   "outputs": [
    {
     "ename": "TypeError",
     "evalue": "'tuple' object does not support item assignment",
     "output_type": "error",
     "traceback": [
      "\u001b[0;31m---------------------------------------------------------------------------\u001b[0m",
      "\u001b[0;31mTypeError\u001b[0m                                 Traceback (most recent call last)",
      "\u001b[0;32m<ipython-input-12-59725311cf98>\u001b[0m in \u001b[0;36m<module>\u001b[0;34m()\u001b[0m\n\u001b[1;32m      1\u001b[0m \u001b[0mst\u001b[0m \u001b[0;34m=\u001b[0m \u001b[0mtuple\u001b[0m\u001b[0;34m(\u001b[0m\u001b[0mscores\u001b[0m\u001b[0;34m)\u001b[0m\u001b[0;34m\u001b[0m\u001b[0m\n\u001b[0;32m----> 2\u001b[0;31m \u001b[0mst\u001b[0m\u001b[0;34m[\u001b[0m\u001b[0;36m3\u001b[0m\u001b[0;34m]\u001b[0m \u001b[0;34m=\u001b[0m \u001b[0;36m10\u001b[0m\u001b[0;34m\u001b[0m\u001b[0m\n\u001b[0m",
      "\u001b[0;31mTypeError\u001b[0m: 'tuple' object does not support item assignment"
     ]
    }
   ],
   "source": [
    "st = tuple(scores)\n",
    "st[3] = 10"
   ]
  },
  {
   "cell_type": "markdown",
   "metadata": {},
   "source": [
    "Change the last score to 999."
   ]
  },
  {
   "cell_type": "code",
   "execution_count": 15,
   "metadata": {},
   "outputs": [
    {
     "data": {
      "text/plain": [
       "[0.2, 0.3, 10, 1.1, 2.2, 2.9, 0.0, 0.7, 1.3, 0.3, 0.5, 0.1, 999]"
      ]
     },
     "execution_count": 15,
     "metadata": {},
     "output_type": "execute_result"
    }
   ],
   "source": [
    "scores[-1] = 999\n",
    "scores"
   ]
  },
  {
   "cell_type": "markdown",
   "metadata": {},
   "source": [
    "## Iteration Exercises\n",
    "\n",
    "Making an empty list, then filling it by appending:\n",
    "\n",
    "```python\n",
    "new_list = []\n",
    "for item in old_list:\n",
    "  new_item = item * 2\n",
    "  new_list.append(new_item)\n",
    "```\n",
    "\n",
    "The same thing can be done in one step with a **\"List comprehension\"**:\n",
    "\n",
    "```python\n",
    "new_list = [item * 2 for item in old_list]\n",
    "```"
   ]
  },
  {
   "cell_type": "markdown",
   "metadata": {},
   "source": [
    "## Exercise: Calculating the Mean\n",
    "\n",
    "**Key functions**:  len(), sum()\n",
    "\n",
    "Without importing any python packages, how could you compute the mean of a list of numbers?"
   ]
  },
  {
   "cell_type": "code",
   "execution_count": 16,
   "metadata": {},
   "outputs": [],
   "source": [
    "data = [0.3, 0.2, 2.5, 0.6, 1.5, 0.1, 0.7, 0.5, 1.9, 2.1]"
   ]
  },
  {
   "cell_type": "code",
   "execution_count": 18,
   "metadata": {},
   "outputs": [
    {
     "data": {
      "text/plain": [
       "1.0399999999999998"
      ]
     },
     "execution_count": 18,
     "metadata": {},
     "output_type": "execute_result"
    }
   ],
   "source": [
    "sum(data) /len(data)"
   ]
  },
  {
   "cell_type": "markdown",
   "metadata": {},
   "source": [
    "## Exercise: A List of Squares\n",
    "\n",
    "The **range()** function creates a series of values from one number to another.  These\n",
    "values can be put in a list by putting the result in the **list()** function.  (ex: list(range(0, 5)))\n",
    "\n",
    "Calculate the square of each integer from 0 to 30, and put those squares in a list (i.e. [1, 4, 9, 16, ...])"
   ]
  },
  {
   "cell_type": "code",
   "execution_count": 19,
   "metadata": {},
   "outputs": [
    {
     "data": {
      "text/plain": [
       "[0,\n",
       " 1,\n",
       " 4,\n",
       " 9,\n",
       " 16,\n",
       " 25,\n",
       " 36,\n",
       " 49,\n",
       " 64,\n",
       " 81,\n",
       " 100,\n",
       " 121,\n",
       " 144,\n",
       " 169,\n",
       " 196,\n",
       " 225,\n",
       " 256,\n",
       " 289,\n",
       " 324,\n",
       " 361,\n",
       " 400,\n",
       " 441,\n",
       " 484,\n",
       " 529,\n",
       " 576,\n",
       " 625,\n",
       " 676,\n",
       " 729,\n",
       " 784,\n",
       " 841,\n",
       " 900]"
      ]
     },
     "execution_count": 19,
     "metadata": {},
     "output_type": "execute_result"
    }
   ],
   "source": [
    "[a ** 2 for a in list(range(31))]"
   ]
  },
  {
   "cell_type": "code",
   "execution_count": 21,
   "metadata": {},
   "outputs": [
    {
     "data": {
      "text/plain": [
       "[0,\n",
       " 1,\n",
       " 4,\n",
       " 9,\n",
       " 16,\n",
       " 25,\n",
       " 36,\n",
       " 49,\n",
       " 64,\n",
       " 81,\n",
       " 100,\n",
       " 121,\n",
       " 144,\n",
       " 169,\n",
       " 196,\n",
       " 225,\n",
       " 256,\n",
       " 289,\n",
       " 324,\n",
       " 361,\n",
       " 400,\n",
       " 441,\n",
       " 484,\n",
       " 529,\n",
       " 576,\n",
       " 625,\n",
       " 676,\n",
       " 729,\n",
       " 784,\n",
       " 841,\n",
       " 900]"
      ]
     },
     "execution_count": 21,
     "metadata": {},
     "output_type": "execute_result"
    }
   ],
   "source": [
    "squares = []\n",
    "for a in range(31):\n",
    "    square = a ** 2\n",
    "    squares.append(square)\n",
    "\n",
    "squares"
   ]
  },
  {
   "cell_type": "markdown",
   "metadata": {},
   "source": [
    "## Exercise: A List of Strings\n",
    "\n",
    "\n",
    "Make a list of strings representing the values from 3 to 10 (i.e. ['3', '4', '5', ...]).\n",
    "The **str()** function turns numbers into strings."
   ]
  },
  {
   "cell_type": "code",
   "execution_count": 24,
   "metadata": {},
   "outputs": [
    {
     "data": {
      "text/plain": [
       "['3', '4', '5', '6', '7', '8', '9', '10']"
      ]
     },
     "execution_count": 24,
     "metadata": {},
     "output_type": "execute_result"
    }
   ],
   "source": [
    "strings = []\n",
    "for integer in range(3, 11):\n",
    "    string = str(integer)\n",
    "    strings.append(string)\n",
    "    \n",
    "strings"
   ]
  },
  {
   "cell_type": "markdown",
   "metadata": {},
   "source": [
    "## Exercise: Title-Case Everything!\n",
    "\n",
    "I listed the names of all my friends, but I left their names lower-case.  Using iteration,\n",
    "how could I capitalize the first letter of each of their names?"
   ]
  },
  {
   "cell_type": "code",
   "execution_count": 27,
   "metadata": {},
   "outputs": [
    {
     "data": {
      "text/plain": [
       "['Joe', 'Gina', 'Mehtap', 'Michael', 'Peter', 'Evgeny']"
      ]
     },
     "execution_count": 27,
     "metadata": {},
     "output_type": "execute_result"
    }
   ],
   "source": [
    "friends = ['joe', 'gina', 'mehtap', 'michael', 'peter', 'evgeny']\n",
    "\n",
    "capital_friends = []\n",
    "for friend in friends:\n",
    "    capital_friend = friend.title()\n",
    "    capital_friends.append(capital_friend)\n",
    "    \n",
    "capital_friends"
   ]
  },
  {
   "cell_type": "markdown",
   "metadata": {},
   "source": [
    "## Exercise: Summing two Lists\n",
    "\n",
    "The **zip()** function turns takes multiple lists and turns them into one list of multiples,\n",
    "letting you iterate over multiple lists at the same time.\n",
    "\n",
    "```python\n",
    "for a, b in zip(listA, listB):\n",
    "  print(a, b)\n",
    "```\n",
    "\n",
    "Make a new list that is the sum of the elements in listA and listB.  "
   ]
  },
  {
   "cell_type": "code",
   "execution_count": 29,
   "metadata": {},
   "outputs": [
    {
     "data": {
      "text/plain": [
       "[2, 7, 6, 9, 5, 1, 0, 7, 5, 5]"
      ]
     },
     "execution_count": 29,
     "metadata": {},
     "output_type": "execute_result"
    }
   ],
   "source": [
    "lista = [2, 3, 4, 5, 0, 0, 0, 2, 2, 0]\n",
    "listb = [0, 4, 2, 4, 5, 1, 0, 5, 3, 5]\n",
    "\n",
    "listsum = []\n",
    "for a, b in zip(lista, listb):\n",
    "    listsum.append(a + b)\n",
    "    \n",
    "listsum"
   ]
  },
  {
   "cell_type": "code",
   "execution_count": 31,
   "metadata": {},
   "outputs": [
    {
     "data": {
      "text/plain": [
       "[2, 7, 6, 9, 5, 1, 0, 7, 5, 5]"
      ]
     },
     "execution_count": 31,
     "metadata": {},
     "output_type": "execute_result"
    }
   ],
   "source": [
    "listsum = [a + b for a, b in zip(lista, listb)]\n",
    "listsum"
   ]
  },
  {
   "cell_type": "markdown",
   "metadata": {},
   "source": [
    "## Exercise: Counting the Samples\n",
    "I want to print the sample number **(1, 2, 3, 4, ...)** next to each of my samples, like so:\n",
    "\n",
    "```\n",
    "1: MGS21\n",
    "2: GHW16\n",
    "3: HHH55\n",
    "```\n",
    "\n",
    "How do I loop through each item, printing its number and name like above?\n",
    "\n",
    "*Hint:* The **enumerate()** function is useful here."
   ]
  },
  {
   "cell_type": "code",
   "execution_count": 36,
   "metadata": {},
   "outputs": [
    {
     "name": "stdout",
     "output_type": "stream",
     "text": [
      "1: MGS21\n",
      "2: GHW16\n",
      "3: HHH55\n",
      "4: UMW93\n"
     ]
    }
   ],
   "source": [
    "samples = ['MGS21', 'GHW16', 'HHH55', 'UMW93']\n",
    "for idx, sample in enumerate(samples):\n",
    "    print('{}: {}'.format(idx + 1, sample))"
   ]
  },
  {
   "cell_type": "markdown",
   "metadata": {},
   "source": [
    "## Exercise: Match-Maker\n",
    "\n",
    "I have a list of dogs and a list of owners.  How do I print their names together, along with their position in their list, as follows:\n",
    "\n",
    "```\n",
    "1. Snuffles and Jerry\n",
    "2. Pongo and Caro\n",
    "3. Stripes and Sean\n",
    "```"
   ]
  },
  {
   "cell_type": "code",
   "execution_count": 45,
   "metadata": {},
   "outputs": [
    {
     "name": "stdout",
     "output_type": "stream",
     "text": [
      "1. Snuffles and Jerry\n",
      "0 Snuffles Jerry\n",
      "2. Pongo and Caro\n",
      "1 Pongo Caro\n",
      "3. Stripes and Sean\n",
      "2 Stripes Sean\n"
     ]
    }
   ],
   "source": [
    "dogs = ['Snuffles', 'Pongo', 'Stripes']\n",
    "owners = ['Jerry', 'Caro', 'Sean']\n",
    "\n",
    "for idx, (dog, owner) in enumerate(zip(dogs, owners)):\n",
    "    print('{}. {} and {}'.format(idx + 1, dog, owner))\n",
    "    print(idx, dog, owner)"
   ]
  },
  {
   "cell_type": "code",
   "execution_count": 47,
   "metadata": {},
   "outputs": [
    {
     "data": {
      "text/plain": [
       "3"
      ]
     },
     "execution_count": 47,
     "metadata": {},
     "output_type": "execute_result"
    }
   ],
   "source": [
    "a, b, (c, d) = [2, 20, (3, 30)]\n",
    "c"
   ]
  },
  {
   "cell_type": "code",
   "execution_count": 53,
   "metadata": {},
   "outputs": [
    {
     "data": {
      "text/plain": [
       "6"
      ]
     },
     "execution_count": 53,
     "metadata": {},
     "output_type": "execute_result"
    }
   ],
   "source": [
    "a, *rest, b = (1, 2, 3, 4, 5, 6)\n",
    "b"
   ]
  },
  {
   "cell_type": "markdown",
   "metadata": {},
   "source": [
    "## Exercise: Mean of Each Condition\n",
    "\n",
    "Now you have two lists: a list of what group each patient was in, and a list of their performance scores.  Calculate the mean of each group's scores and put the means into a dictionary, so I can easily look up their values by just indexing the group's name.\n",
    "\n",
    "**Sample**: means = {'A': 2.1, 'B': 4.2}"
   ]
  },
  {
   "cell_type": "code",
   "execution_count": 7,
   "metadata": {},
   "outputs": [],
   "source": [
    "groups = ['A', 'B', 'B', 'A', 'B', 'B', 'B', 'B', 'A', 'A']\n",
    "scores = [0.2, 0.3, 0.9, 1.1, 2.2, 2.9, 0.0, 0.7, 1.3, 0.3]    "
   ]
  },
  {
   "cell_type": "markdown",
   "metadata": {},
   "source": []
  },
  {
   "cell_type": "markdown",
   "metadata": {},
   "source": [
    "# Dictionaries"
   ]
  },
  {
   "cell_type": "markdown",
   "metadata": {},
   "source": [
    "Dictionaries (or \"dicts\" in Python talk) are collections like lists, but instead of representing a **sequence** of values, they instead represent a **mapping** of key-value pairs.  For example, in a dictionary of dog owners, one would look up the dog's name (the **key**) and get the corresponding owner's name (the **value**).  As a result, dictionaries are not ordered by nature; it doesn't matter where an item appears in the dictionary, only what the pairing is.  \n",
    "\n",
    "Dicts are made in Python using the curly brace **{}** and colon **:**.  \n",
    "\n",
    "```python\n",
    "owners = {'Snuffles': 'Greg', 'Brownie': 'Susan', 'Tinkles': 'Jenny'}\n",
    "owners['Tinkles']\n",
    ">> 'Jenny'\n",
    "```"
   ]
  },
  {
   "cell_type": "markdown",
   "metadata": {},
   "source": [
    "## Exercise: Capitols\n",
    "\n",
    "Germany has many Bundesländer, each with its own capital city.  Make a dictionary that gives you the Bundesland corresponding to a city (just include three here)."
   ]
  },
  {
   "cell_type": "code",
   "execution_count": null,
   "metadata": {},
   "outputs": [],
   "source": []
  },
  {
   "cell_type": "markdown",
   "metadata": {},
   "source": [
    "## Exercise: Last Names\n",
    "\n",
    "Make a dictionary of birthdays of the people sitting next to you.  Include yourself!"
   ]
  },
  {
   "cell_type": "code",
   "execution_count": null,
   "metadata": {},
   "outputs": [],
   "source": []
  },
  {
   "cell_type": "markdown",
   "metadata": {},
   "source": [
    "## Exercise: More Descriptive Labels\n",
    "\n",
    "You have a list of single-character strings that represent conditions in your experiment: 'L', 'R', and 'C'.  Change those labels to 'Left', 'Right', and 'Center'."
   ]
  },
  {
   "cell_type": "code",
   "execution_count": 54,
   "metadata": {},
   "outputs": [
    {
     "data": {
      "text/plain": [
       "['Center',\n",
       " 'Left',\n",
       " 'Center',\n",
       " 'Right',\n",
       " 'Center',\n",
       " 'Center',\n",
       " 'Center',\n",
       " 'Right',\n",
       " 'Right',\n",
       " 'Right']"
      ]
     },
     "execution_count": 54,
     "metadata": {},
     "output_type": "execute_result"
    }
   ],
   "source": [
    "conditions = {'C': 'Center', 'L': 'Left', 'R': 'Right'}\n",
    "conds = ['C', 'L', 'C', 'R', 'C', 'C', 'C', 'R', 'R', 'R']\n",
    "\n",
    "new_conds = []\n",
    "for cond in conds:\n",
    "    new_conds.append(conditions[cond])\n",
    "    \n",
    "new_conds    "
   ]
  }
 ],
 "metadata": {
  "kernelspec": {
   "display_name": "Python 3",
   "language": "python",
   "name": "python3"
  },
  "language_info": {
   "codemirror_mode": {
    "name": "ipython",
    "version": 3
   },
   "file_extension": ".py",
   "mimetype": "text/x-python",
   "name": "python",
   "nbconvert_exporter": "python",
   "pygments_lexer": "ipython3",
   "version": "3.6.5"
  }
 },
 "nbformat": 4,
 "nbformat_minor": 2
}
