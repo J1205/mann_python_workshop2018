{
 "cells": [
  {
   "cell_type": "code",
   "execution_count": 1,
   "metadata": {},
   "outputs": [],
   "source": [
    "import numpy as np\n",
    "import matplotlib.pyplot as plt\n",
    "import pandas as pd\n",
    "import seaborn as sns\n",
    "import statsmodels.api as smf\n"
   ]
  },
  {
   "cell_type": "markdown",
   "metadata": {},
   "source": [
    "# Proteomics Analysis"
   ]
  },
  {
   "cell_type": "markdown",
   "metadata": {},
   "source": [
    "## Load dataset "
   ]
  },
  {
   "cell_type": "code",
   "execution_count": 2,
   "metadata": {},
   "outputs": [
    {
     "name": "stderr",
     "output_type": "stream",
     "text": [
      "/home/nickdg/anaconda3/lib/python3.6/site-packages/IPython/core/interactiveshell.py:2785: DtypeWarning: Columns (120,121) have mixed types. Specify dtype option on import or set low_memory=False.\n",
      "  interactivity=interactivity, compiler=compiler, result=result)\n"
     ]
    },
    {
     "data": {
      "text/html": [
       "<div>\n",
       "<style scoped>\n",
       "    .dataframe tbody tr th:only-of-type {\n",
       "        vertical-align: middle;\n",
       "    }\n",
       "\n",
       "    .dataframe tbody tr th {\n",
       "        vertical-align: top;\n",
       "    }\n",
       "\n",
       "    .dataframe thead th {\n",
       "        text-align: right;\n",
       "    }\n",
       "</style>\n",
       "<table border=\"1\" class=\"dataframe\">\n",
       "  <thead>\n",
       "    <tr style=\"text-align: right;\">\n",
       "      <th></th>\n",
       "      <th>Gene names</th>\n",
       "      <th>Shotgun_02-01_1</th>\n",
       "      <th>Shotgun_02-01_2</th>\n",
       "      <th>Shotgun_02-01_3</th>\n",
       "      <th>Shotgun_12-01_1</th>\n",
       "      <th>Shotgun_12-01_2</th>\n",
       "      <th>Shotgun_12-01_3</th>\n",
       "      <th>BoxCar_02-01_1</th>\n",
       "      <th>BoxCar_02-01_2</th>\n",
       "      <th>BoxCar_02-01_3</th>\n",
       "      <th>BoxCar_12-01_1</th>\n",
       "      <th>BoxCar_12-01_2</th>\n",
       "      <th>BoxCar_12-01_3</th>\n",
       "      <th>Species</th>\n",
       "      <th>Only identified by site</th>\n",
       "      <th>Reverse</th>\n",
       "      <th>Potential contaminant</th>\n",
       "    </tr>\n",
       "  </thead>\n",
       "  <tbody>\n",
       "    <tr>\n",
       "      <th>0</th>\n",
       "      <td>SERPINB6</td>\n",
       "      <td>3643600000</td>\n",
       "      <td>2971500000</td>\n",
       "      <td>3188400000</td>\n",
       "      <td>3655800000</td>\n",
       "      <td>3605500000</td>\n",
       "      <td>4274800000</td>\n",
       "      <td>2003200000</td>\n",
       "      <td>2241800000</td>\n",
       "      <td>2328600000</td>\n",
       "      <td>2896200000</td>\n",
       "      <td>2667100000</td>\n",
       "      <td>3020800000</td>\n",
       "      <td>Homo sapiens</td>\n",
       "      <td>NaN</td>\n",
       "      <td>NaN</td>\n",
       "      <td>NaN</td>\n",
       "    </tr>\n",
       "    <tr>\n",
       "      <th>1</th>\n",
       "      <td>HDLBP</td>\n",
       "      <td>5321900000</td>\n",
       "      <td>4503700000</td>\n",
       "      <td>4356100000</td>\n",
       "      <td>5657400000</td>\n",
       "      <td>5466200000</td>\n",
       "      <td>5410700000</td>\n",
       "      <td>3061100000</td>\n",
       "      <td>2786500000</td>\n",
       "      <td>2728400000</td>\n",
       "      <td>3704300000</td>\n",
       "      <td>3703300000</td>\n",
       "      <td>3659800000</td>\n",
       "      <td>Homo sapiens</td>\n",
       "      <td>NaN</td>\n",
       "      <td>NaN</td>\n",
       "      <td>NaN</td>\n",
       "    </tr>\n",
       "    <tr>\n",
       "      <th>2</th>\n",
       "      <td>ELOF1</td>\n",
       "      <td>86756000</td>\n",
       "      <td>69719000</td>\n",
       "      <td>108880000</td>\n",
       "      <td>152760000</td>\n",
       "      <td>99195000</td>\n",
       "      <td>134370000</td>\n",
       "      <td>54177000</td>\n",
       "      <td>57759000</td>\n",
       "      <td>71338000</td>\n",
       "      <td>98382000</td>\n",
       "      <td>91200000</td>\n",
       "      <td>95218000</td>\n",
       "      <td>Homo sapiens</td>\n",
       "      <td>NaN</td>\n",
       "      <td>NaN</td>\n",
       "      <td>NaN</td>\n",
       "    </tr>\n",
       "    <tr>\n",
       "      <th>3</th>\n",
       "      <td>TCEB3</td>\n",
       "      <td>317040000</td>\n",
       "      <td>421780000</td>\n",
       "      <td>412000000</td>\n",
       "      <td>444980000</td>\n",
       "      <td>503490000</td>\n",
       "      <td>385790000</td>\n",
       "      <td>260160000</td>\n",
       "      <td>260520000</td>\n",
       "      <td>284200000</td>\n",
       "      <td>302950000</td>\n",
       "      <td>352410000</td>\n",
       "      <td>368110000</td>\n",
       "      <td>Homo sapiens</td>\n",
       "      <td>NaN</td>\n",
       "      <td>NaN</td>\n",
       "      <td>NaN</td>\n",
       "    </tr>\n",
       "    <tr>\n",
       "      <th>4</th>\n",
       "      <td>PPT2;hCG_1999928</td>\n",
       "      <td>36886000</td>\n",
       "      <td>24031000</td>\n",
       "      <td>28317000</td>\n",
       "      <td>41376000</td>\n",
       "      <td>36666000</td>\n",
       "      <td>42425000</td>\n",
       "      <td>22815000</td>\n",
       "      <td>20307000</td>\n",
       "      <td>21351000</td>\n",
       "      <td>28480000</td>\n",
       "      <td>28804000</td>\n",
       "      <td>24763000</td>\n",
       "      <td>Homo sapiens</td>\n",
       "      <td>NaN</td>\n",
       "      <td>NaN</td>\n",
       "      <td>NaN</td>\n",
       "    </tr>\n",
       "  </tbody>\n",
       "</table>\n",
       "</div>"
      ],
      "text/plain": [
       "         Gene names  Shotgun_02-01_1  Shotgun_02-01_2  Shotgun_02-01_3  \\\n",
       "0          SERPINB6       3643600000       2971500000       3188400000   \n",
       "1             HDLBP       5321900000       4503700000       4356100000   \n",
       "2             ELOF1         86756000         69719000        108880000   \n",
       "3             TCEB3        317040000        421780000        412000000   \n",
       "4  PPT2;hCG_1999928         36886000         24031000         28317000   \n",
       "\n",
       "   Shotgun_12-01_1  Shotgun_12-01_2  Shotgun_12-01_3  BoxCar_02-01_1  \\\n",
       "0       3655800000       3605500000       4274800000      2003200000   \n",
       "1       5657400000       5466200000       5410700000      3061100000   \n",
       "2        152760000         99195000        134370000        54177000   \n",
       "3        444980000        503490000        385790000       260160000   \n",
       "4         41376000         36666000         42425000        22815000   \n",
       "\n",
       "   BoxCar_02-01_2  BoxCar_02-01_3  BoxCar_12-01_1  BoxCar_12-01_2  \\\n",
       "0      2241800000      2328600000      2896200000      2667100000   \n",
       "1      2786500000      2728400000      3704300000      3703300000   \n",
       "2        57759000        71338000        98382000        91200000   \n",
       "3       260520000       284200000       302950000       352410000   \n",
       "4        20307000        21351000        28480000        28804000   \n",
       "\n",
       "   BoxCar_12-01_3       Species Only identified by site Reverse  \\\n",
       "0      3020800000  Homo sapiens                     NaN     NaN   \n",
       "1      3659800000  Homo sapiens                     NaN     NaN   \n",
       "2        95218000  Homo sapiens                     NaN     NaN   \n",
       "3       368110000  Homo sapiens                     NaN     NaN   \n",
       "4        24763000  Homo sapiens                     NaN     NaN   \n",
       "\n",
       "  Potential contaminant  \n",
       "0                   NaN  \n",
       "1                   NaN  \n",
       "2                   NaN  \n",
       "3                   NaN  \n",
       "4                   NaN  "
      ]
     },
     "execution_count": 2,
     "metadata": {},
     "output_type": "execute_result"
    }
   ],
   "source": [
    "filename = 'proteinGroups.txt'\n",
    "\n",
    "def select_cols(name):\n",
    "    return 'LFQ' in name or name in ['Gene names', 'Reverse', 'Potential contaminant', 'Only identified by site', 'Species']\n",
    "\n",
    "df = pd.read_table(filename, usecols=select_cols)\n",
    "df.columns = [name.split(' ')[2] if 'LFQ' in name else name for name in df.columns]\n",
    "df.head(5)"
   ]
  },
  {
   "cell_type": "markdown",
   "metadata": {},
   "source": [
    "## Filter Data\n",
    "\n",
    "Remove all rows that have a plus (+) sign in the \"Reverse\", \"Potential Contaminant\", and \"Only identified...\" columns"
   ]
  },
  {
   "cell_type": "code",
   "execution_count": null,
   "metadata": {},
   "outputs": [],
   "source": []
  },
  {
   "cell_type": "markdown",
   "metadata": {},
   "source": [
    "## Tidy Data: Change the DataFrame into a Long Format"
   ]
  },
  {
   "cell_type": "code",
   "execution_count": null,
   "metadata": {},
   "outputs": [],
   "source": []
  },
  {
   "cell_type": "markdown",
   "metadata": {},
   "source": [
    "## Transform Data: Calculate the log2 of Protein Count\n",
    "But first, set all protein counts of less than 10 to NaN (np.nan)."
   ]
  },
  {
   "cell_type": "code",
   "execution_count": null,
   "metadata": {},
   "outputs": [],
   "source": []
  },
  {
   "cell_type": "markdown",
   "metadata": {},
   "source": [
    "Visualize the distribution of the log protein abundance"
   ]
  },
  {
   "cell_type": "code",
   "execution_count": null,
   "metadata": {},
   "outputs": [],
   "source": []
  },
  {
   "cell_type": "markdown",
   "metadata": {},
   "source": [
    "## Make \"Method\", \"Sample\", and \"Replicate\" Columns for Each Observation\n",
    " \n",
    "  - **Method**: Shotgun, BoxCar\n",
    "  - **Sample**: '02-01', '12-01'\n",
    "  - **Replicate**: 1, 2, 3"
   ]
  },
  {
   "cell_type": "code",
   "execution_count": null,
   "metadata": {},
   "outputs": [],
   "source": []
  },
  {
   "cell_type": "code",
   "execution_count": null,
   "metadata": {},
   "outputs": [],
   "source": []
  },
  {
   "cell_type": "markdown",
   "metadata": {},
   "source": [
    "## Visualize Data: How do the Abundances Differ across conditions?\n",
    "Make at least 4 different plots!"
   ]
  },
  {
   "cell_type": "code",
   "execution_count": null,
   "metadata": {},
   "outputs": [],
   "source": []
  },
  {
   "cell_type": "code",
   "execution_count": null,
   "metadata": {},
   "outputs": [],
   "source": []
  },
  {
   "cell_type": "code",
   "execution_count": null,
   "metadata": {},
   "outputs": [],
   "source": []
  },
  {
   "cell_type": "code",
   "execution_count": null,
   "metadata": {},
   "outputs": [],
   "source": []
  },
  {
   "cell_type": "markdown",
   "metadata": {},
   "source": [
    "## Ratio Analysis\n",
    "\n",
    "What is the relationship between the 02-01 and 12-01 samples?"
   ]
  },
  {
   "cell_type": "code",
   "execution_count": null,
   "metadata": {},
   "outputs": [],
   "source": []
  },
  {
   "cell_type": "markdown",
   "metadata": {},
   "source": [
    "Make a scatter plot of log protein abundances, with 02-01 on the X axis and 12-01 on the y axis"
   ]
  },
  {
   "cell_type": "code",
   "execution_count": null,
   "metadata": {},
   "outputs": [],
   "source": []
  }
 ],
 "metadata": {
  "kernelspec": {
   "display_name": "Python 3",
   "language": "python",
   "name": "python3"
  },
  "language_info": {
   "codemirror_mode": {
    "name": "ipython",
    "version": 3
   },
   "file_extension": ".py",
   "mimetype": "text/x-python",
   "name": "python",
   "nbconvert_exporter": "python",
   "pygments_lexer": "ipython3",
   "version": "3.6.5"
  }
 },
 "nbformat": 4,
 "nbformat_minor": 2
}
