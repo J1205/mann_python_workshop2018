{
 "cells": [
  {
   "cell_type": "markdown",
   "metadata": {},
   "source": [
    "# Logical (True/False) Values:  Bools\n",
    "\n",
    "True/False values are useful for all kinds of things:  Asking questions about your data, filtering values from a collection, and changing the behavior of your code.  To change things to a bool, there are a few options:\n",
    "\n",
    "  1. A boolean operator (**<**, **>**, **<=**, **>=**, **==**, **!=**, **in**)\n",
    "  2. The **bool()** class construction function.\n",
    "  \n",
    "*Note about Falsy-ness*:  The rules of Python are simple to determine if something is false:  \n",
    "\n",
    "   - 0, 0.0, False are all False.\n",
    "   - Empty collections are all False.  [], {}, '' are all False."
   ]
  },
  {
   "cell_type": "markdown",
   "metadata": {},
   "source": [
    "## Truthyness Exercises"
   ]
  },
  {
   "cell_type": "markdown",
   "metadata": {},
   "source": [
    "Is 1 greater than 0?"
   ]
  },
  {
   "cell_type": "code",
   "execution_count": null,
   "metadata": {},
   "outputs": [],
   "source": []
  },
  {
   "cell_type": "markdown",
   "metadata": {},
   "source": [
    "Is 67100 equal to 560 x 120?"
   ]
  },
  {
   "cell_type": "code",
   "execution_count": null,
   "metadata": {},
   "outputs": [],
   "source": []
  },
  {
   "cell_type": "markdown",
   "metadata": {},
   "source": [
    "Is ['Hello', 'World'] True or False?"
   ]
  },
  {
   "cell_type": "code",
   "execution_count": null,
   "metadata": {},
   "outputs": [],
   "source": []
  },
  {
   "cell_type": "markdown",
   "metadata": {},
   "source": [
    "Is [False, False] True or False?"
   ]
  },
  {
   "cell_type": "code",
   "execution_count": null,
   "metadata": {},
   "outputs": [],
   "source": []
  },
  {
   "cell_type": "markdown",
   "metadata": {},
   "source": [
    "Is 'True' True or False?"
   ]
  },
  {
   "cell_type": "code",
   "execution_count": null,
   "metadata": {},
   "outputs": [],
   "source": []
  },
  {
   "cell_type": "markdown",
   "metadata": {},
   "source": [
    "Original descrpition of Truth in Python can be found at the original docs: https://docs.python.org/2.4/lib/truth.html"
   ]
  },
  {
   "cell_type": "markdown",
   "metadata": {},
   "source": [
    "## If\n",
    "\n",
    "The **if** keyword can be used for two things: setting a value conditioned on some True/False statement, or running code conditioned on some True/False statement.  \n",
    "\n",
    "**Conditional Assignment:** A value can set to one thing or another in the following way:\n",
    "\n",
    "```python\n",
    "completed = 'Yes' if experiment == 'finished' else 'No'\n",
    "```\n",
    "\n",
    "**Conditional Code Execution:** Code can be run conditionally as well:\n",
    "\n",
    "```python\n",
    "p_value = .01\n",
    "if p_value <= .05:\n",
    "    print('P_value: {}.format(p_value))\n",
    "    print('Result is significant')\n",
    "```\n",
    "\n",
    "You can run other code using the **else** and **elif** statements as well:\n",
    "\n",
    "```python\n",
    "p_value = .01\n",
    "if p_value <= .05:\n",
    "    print('Result is significant')\n",
    "else:\n",
    "    print('Result is not significant')\n",
    "```\n",
    "\n",
    "Let's try these out with some exercises!"
   ]
  },
  {
   "cell_type": "markdown",
   "metadata": {},
   "source": [
    "#### Conditional Assignment"
   ]
  },
  {
   "cell_type": "markdown",
   "metadata": {},
   "source": [
    "If a pizza contains pineapple, it's not edible.  Is the pizza 'edible' or 'inedible'?"
   ]
  },
  {
   "cell_type": "code",
   "execution_count": 8,
   "metadata": {},
   "outputs": [],
   "source": [
    "topping = 'salami'\n"
   ]
  },
  {
   "cell_type": "code",
   "execution_count": 10,
   "metadata": {},
   "outputs": [],
   "source": [
    "toppings = ['salami', 'pineapple', 'cheese']\n",
    "is_edible = ''"
   ]
  },
  {
   "cell_type": "markdown",
   "metadata": {},
   "source": [
    "DNA codons are sequences of three-element codes, which means that any codon sequence should be divisible by 3.  Is this sequence \"complete\" (i.e. divisible by 3) or \"incomplete\"?"
   ]
  },
  {
   "cell_type": "code",
   "execution_count": 16,
   "metadata": {},
   "outputs": [],
   "source": [
    "code = \"AUGGCCAATGTCATTGCGGATTAGCTCCAGATA\""
   ]
  },
  {
   "cell_type": "markdown",
   "metadata": {},
   "source": [
    "## If statements"
   ]
  },
  {
   "cell_type": "markdown",
   "metadata": {},
   "source": [
    "If a random number is above five, print \"Heads\".  If not, print \"Tails\"."
   ]
  },
  {
   "cell_type": "code",
   "execution_count": 23,
   "metadata": {},
   "outputs": [],
   "source": [
    "import random\n",
    "number = random.randint(1, 10)"
   ]
  },
  {
   "cell_type": "code",
   "execution_count": null,
   "metadata": {},
   "outputs": [],
   "source": []
  },
  {
   "cell_type": "markdown",
   "metadata": {},
   "source": [
    "Do it 10 times."
   ]
  },
  {
   "cell_type": "code",
   "execution_count": null,
   "metadata": {},
   "outputs": [],
   "source": []
  },
  {
   "cell_type": "markdown",
   "metadata": {},
   "source": [
    "This time get a random number between one and ten 100 times, but only print out the total number of \"heads\" and \"tails\" at the end."
   ]
  },
  {
   "cell_type": "code",
   "execution_count": null,
   "metadata": {},
   "outputs": [],
   "source": []
  },
  {
   "cell_type": "markdown",
   "metadata": {},
   "source": [
    "Make a list of booleans indicating whether a word is longer than 3 characters or not.\n",
    "\n",
    "['hen', 'duck', 'cow', 'moose']  -> [False, True, False, True]"
   ]
  },
  {
   "cell_type": "code",
   "execution_count": 18,
   "metadata": {},
   "outputs": [],
   "source": [
    "animals = ['hen', 'duck', 'cow', 'moose', 'ant', 'bird', 'fish']"
   ]
  },
  {
   "cell_type": "code",
   "execution_count": null,
   "metadata": {},
   "outputs": [],
   "source": []
  },
  {
   "cell_type": "markdown",
   "metadata": {},
   "source": []
  },
  {
   "cell_type": "markdown",
   "metadata": {},
   "source": [
    "## Filtering in Comprehensions\n",
    "\n",
    "You can use **if** in a list comprehension as well, if you only want to append a value if something is true:\n",
    "\n",
    "```python\n",
    "high_values = [el for el in range(10) if el > 5]\n",
    ">> [6, 7, 8, 9, 10]\n",
    "```\n",
    "\n",
    "Try using list compreshensions to do the previous exercises in a single line!"
   ]
  },
  {
   "cell_type": "code",
   "execution_count": null,
   "metadata": {},
   "outputs": [],
   "source": []
  }
 ],
 "metadata": {
  "kernelspec": {
   "display_name": "Python 3",
   "language": "python",
   "name": "python3"
  },
  "language_info": {
   "codemirror_mode": {
    "name": "ipython",
    "version": 3
   },
   "file_extension": ".py",
   "mimetype": "text/x-python",
   "name": "python",
   "nbconvert_exporter": "python",
   "pygments_lexer": "ipython3",
   "version": "3.6.5"
  }
 },
 "nbformat": 4,
 "nbformat_minor": 2
}
